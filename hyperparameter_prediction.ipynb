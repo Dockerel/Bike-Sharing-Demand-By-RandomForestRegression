{
 "cells": [
  {
   "cell_type": "code",
   "execution_count": 8,
   "metadata": {},
   "outputs": [
    {
     "name": "stdout",
     "output_type": "stream",
     "text": [
      "(10886, 12)\n",
      "(6493, 9)\n",
      "(6493, 2)\n"
     ]
    }
   ],
   "source": [
    "import pandas as pd\n",
    "import numpy as np\n",
    "import seaborn as sns\n",
    "import matplotlib.pyplot as plt\n",
    "\n",
    "train=pd.read_csv(\"train_bsd.csv\")\n",
    "test=pd.read_csv(\"test_bsd.csv\")\n",
    "\n",
    "print(train.shape)\n",
    "print(test.shape)\n",
    "\n",
    "datasets=[train,test]\n",
    "\n",
    "submit=pd.read_csv(\"sampleSubmission.csv\")\n",
    "print(submit.shape)\n",
    "submit.head()\n",
    "\n",
    "for dataset in datasets:\n",
    "    dataset[\"datetime\"]=pd.to_datetime(dataset[\"datetime\"])"
   ]
  },
  {
   "cell_type": "code",
   "execution_count": 9,
   "metadata": {},
   "outputs": [],
   "source": [
    "for dataset in datasets:\n",
    "    dataset[\"datetime-year\"]=dataset[\"datetime\"].dt.year\n",
    "    dataset[\"datetime-month\"]=dataset[\"datetime\"].dt.month\n",
    "    dataset[\"datetime-hour\"]=dataset[\"datetime\"].dt.hour\n",
    "\n",
    "for dataset in datasets:\n",
    "    dataset[\"datetime-dayofweek\"]=dataset[\"datetime\"].dt.day_name()\n",
    "    dataset[[\"datetime-dayofweek\"]]\n",
    "\n",
    "for dataset in datasets:\n",
    "    dataset[\"datetime-dayofweek_Sun\"]=dataset[\"datetime-dayofweek\"]==\"Sunday\"\n",
    "    dataset[\"datetime-dayofweek_Mon\"]=dataset[\"datetime-dayofweek\"]==\"Monday\"\n",
    "    dataset[\"datetime-dayofweek_Tue\"]=dataset[\"datetime-dayofweek\"]==\"Tuesday\"\n",
    "    dataset[\"datetime-dayofweek_Wed\"]=dataset[\"datetime-dayofweek\"]==\"Wednesday\"\n",
    "    dataset[\"datetime-dayofweek_Thu\"]=dataset[\"datetime-dayofweek\"]==\"Thursday\"\n",
    "    dataset[\"datetime-dayofweek_Fri\"]=dataset[\"datetime-dayofweek\"]==\"Friday\"\n",
    "    dataset[\"datetime-dayofweek_Sat\"]=dataset[\"datetime-dayofweek\"]==\"Saturday\""
   ]
  },
  {
   "cell_type": "code",
   "execution_count": 10,
   "metadata": {},
   "outputs": [],
   "source": [
    "for dataset in datasets:\n",
    "    dataset.loc[dataset[\"weather\"]==4,\"weather\"]=3"
   ]
  },
  {
   "cell_type": "code",
   "execution_count": 11,
   "metadata": {},
   "outputs": [
    {
     "data": {
      "text/plain": [
       "17"
      ]
     },
     "execution_count": 11,
     "metadata": {},
     "output_type": "execute_result"
    }
   ],
   "source": [
    "feature_names = [\n",
    "    \"season\",\n",
    "    \"holiday\",\n",
    "    \"workingday\",\n",
    "    \"weather\",\n",
    "    \"temp\",\n",
    "    \"atemp\",\n",
    "    \"humidity\",\n",
    "    \"windspeed\",\n",
    "    \"datetime-year\",\n",
    "    \"datetime-hour\",\n",
    "    \"datetime-dayofweek_Mon\",\n",
    "    \"datetime-dayofweek_Tue\",\n",
    "    \"datetime-dayofweek_Wed\",\n",
    "    \"datetime-dayofweek_Thu\",\n",
    "    \"datetime-dayofweek_Fri\",\n",
    "    \"datetime-dayofweek_Sat\",\n",
    "    \"datetime-dayofweek_Sun\",\n",
    "]\n",
    "len(feature_names)"
   ]
  },
  {
   "cell_type": "code",
   "execution_count": 12,
   "metadata": {},
   "outputs": [],
   "source": [
    "x=train[feature_names]\n",
    "y_log_casual=np.log(train[\"casual\"]+1)\n",
    "y_log_registered=np.log(train[\"registered\"]+1)\n",
    "y=train[\"count\"]\n",
    "x_test=test[feature_names]"
   ]
  },
  {
   "cell_type": "markdown",
   "metadata": {},
   "source": [
    "# Hyperparameters Tuning"
   ]
  },
  {
   "cell_type": "code",
   "execution_count": 13,
   "metadata": {},
   "outputs": [],
   "source": [
    "n_estimators=300\n",
    "num_loop=100"
   ]
  },
  {
   "cell_type": "code",
   "execution_count": 14,
   "metadata": {},
   "outputs": [
    {
     "name": "stdout",
     "output_type": "stream",
     "text": [
      "loop 1 - max_depth:79 max_features:0.506220 n_estimators:300 score_rmsle2:0.36126\n",
      "loop 2 - max_depth:98 max_features:0.372022 n_estimators:300 score_rmsle2:0.38557\n",
      "loop 3 - max_depth:13 max_features:0.519680 n_estimators:300 score_rmsle2:0.37066\n",
      "loop 4 - max_depth:7 max_features:0.105041 n_estimators:300 score_rmsle2:0.92373\n",
      "loop 5 - max_depth:95 max_features:0.629295 n_estimators:300 score_rmsle2:0.35327\n",
      "loop 6 - max_depth:6 max_features:0.500718 n_estimators:300 score_rmsle2:0.55964\n",
      "loop 7 - max_depth:32 max_features:0.222551 n_estimators:300 score_rmsle2:0.49299\n",
      "loop 8 - max_depth:36 max_features:0.494602 n_estimators:300 score_rmsle2:0.36127\n",
      "loop 9 - max_depth:78 max_features:0.650100 n_estimators:300 score_rmsle2:0.35002\n",
      "loop 10 - max_depth:32 max_features:0.236526 n_estimators:300 score_rmsle2:0.44619\n",
      "loop 11 - max_depth:13 max_features:0.625435 n_estimators:300 score_rmsle2:0.35683\n",
      "loop 12 - max_depth:94 max_features:0.585608 n_estimators:300 score_rmsle2:0.35520\n",
      "loop 13 - max_depth:43 max_features:0.157030 n_estimators:300 score_rmsle2:0.56611\n",
      "loop 14 - max_depth:43 max_features:0.212533 n_estimators:300 score_rmsle2:0.49296\n",
      "loop 15 - max_depth:50 max_features:0.841642 n_estimators:300 score_rmsle2:0.34834\n",
      "loop 16 - max_depth:26 max_features:0.643440 n_estimators:300 score_rmsle2:0.35335\n",
      "loop 17 - max_depth:21 max_features:0.604239 n_estimators:300 score_rmsle2:0.35286\n",
      "loop 18 - max_depth:11 max_features:0.972024 n_estimators:300 score_rmsle2:0.35800\n",
      "loop 19 - max_depth:55 max_features:0.991815 n_estimators:300 score_rmsle2:0.35115\n",
      "loop 20 - max_depth:30 max_features:0.233560 n_estimators:300 score_rmsle2:0.49245\n",
      "loop 21 - max_depth:66 max_features:0.102230 n_estimators:300 score_rmsle2:0.62789\n",
      "loop 22 - max_depth:91 max_features:0.158148 n_estimators:300 score_rmsle2:0.56611\n",
      "loop 23 - max_depth:98 max_features:0.977647 n_estimators:300 score_rmsle2:0.35115\n",
      "loop 24 - max_depth:39 max_features:0.826127 n_estimators:300 score_rmsle2:0.34834\n",
      "loop 25 - max_depth:36 max_features:0.600643 n_estimators:300 score_rmsle2:0.35327\n",
      "loop 26 - max_depth:22 max_features:0.346132 n_estimators:300 score_rmsle2:0.41048\n",
      "loop 27 - max_depth:11 max_features:0.968284 n_estimators:300 score_rmsle2:0.35800\n",
      "loop 28 - max_depth:54 max_features:0.916193 n_estimators:300 score_rmsle2:0.34939\n",
      "loop 29 - max_depth:6 max_features:0.995484 n_estimators:300 score_rmsle2:0.51434\n",
      "loop 30 - max_depth:12 max_features:0.874175 n_estimators:300 score_rmsle2:0.35230\n",
      "loop 31 - max_depth:34 max_features:0.596568 n_estimators:300 score_rmsle2:0.35330\n",
      "loop 32 - max_depth:50 max_features:0.489340 n_estimators:300 score_rmsle2:0.36126\n",
      "loop 33 - max_depth:90 max_features:0.192101 n_estimators:300 score_rmsle2:0.49296\n",
      "loop 34 - max_depth:26 max_features:0.288582 n_estimators:300 score_rmsle2:0.44563\n",
      "loop 35 - max_depth:52 max_features:0.912229 n_estimators:300 score_rmsle2:0.34939\n",
      "loop 36 - max_depth:21 max_features:0.105577 n_estimators:300 score_rmsle2:0.62662\n",
      "loop 37 - max_depth:21 max_features:0.577160 n_estimators:300 score_rmsle2:0.35608\n",
      "loop 38 - max_depth:5 max_features:0.268843 n_estimators:300 score_rmsle2:0.74642\n",
      "loop 39 - max_depth:67 max_features:0.223318 n_estimators:300 score_rmsle2:0.49296\n",
      "loop 40 - max_depth:88 max_features:0.365719 n_estimators:300 score_rmsle2:0.38557\n",
      "loop 41 - max_depth:45 max_features:0.328334 n_estimators:300 score_rmsle2:0.40961\n",
      "loop 42 - max_depth:28 max_features:0.680120 n_estimators:300 score_rmsle2:0.35022\n",
      "loop 43 - max_depth:84 max_features:0.980557 n_estimators:300 score_rmsle2:0.35115\n",
      "loop 44 - max_depth:26 max_features:0.346222 n_estimators:300 score_rmsle2:0.41120\n",
      "loop 45 - max_depth:82 max_features:0.157572 n_estimators:300 score_rmsle2:0.56611\n",
      "loop 46 - max_depth:61 max_features:0.794063 n_estimators:300 score_rmsle2:0.34917\n",
      "loop 47 - max_depth:62 max_features:0.912253 n_estimators:300 score_rmsle2:0.34939\n",
      "loop 48 - max_depth:26 max_features:0.988284 n_estimators:300 score_rmsle2:0.35082\n",
      "loop 49 - max_depth:96 max_features:0.200566 n_estimators:300 score_rmsle2:0.49296\n",
      "loop 50 - max_depth:54 max_features:0.761450 n_estimators:300 score_rmsle2:0.34932\n",
      "loop 51 - max_depth:15 max_features:0.818938 n_estimators:300 score_rmsle2:0.34882\n",
      "loop 52 - max_depth:46 max_features:0.969709 n_estimators:300 score_rmsle2:0.35115\n",
      "loop 53 - max_depth:45 max_features:0.429153 n_estimators:300 score_rmsle2:0.37055\n",
      "loop 54 - max_depth:45 max_features:0.496585 n_estimators:300 score_rmsle2:0.36126\n",
      "loop 55 - max_depth:66 max_features:0.246746 n_estimators:300 score_rmsle2:0.44601\n",
      "loop 56 - max_depth:88 max_features:0.159880 n_estimators:300 score_rmsle2:0.56611\n",
      "loop 57 - max_depth:61 max_features:0.755729 n_estimators:300 score_rmsle2:0.34932\n",
      "loop 58 - max_depth:8 max_features:0.217044 n_estimators:300 score_rmsle2:0.65209\n",
      "loop 59 - max_depth:42 max_features:0.244647 n_estimators:300 score_rmsle2:0.44601\n",
      "loop 60 - max_depth:22 max_features:0.804980 n_estimators:300 score_rmsle2:0.34877\n",
      "loop 61 - max_depth:71 max_features:0.129606 n_estimators:300 score_rmsle2:0.56611\n",
      "loop 62 - max_depth:4 max_features:0.484358 n_estimators:300 score_rmsle2:0.69214\n",
      "loop 63 - max_depth:35 max_features:0.993706 n_estimators:300 score_rmsle2:0.35115\n",
      "loop 64 - max_depth:43 max_features:0.307165 n_estimators:300 score_rmsle2:0.40961\n",
      "loop 65 - max_depth:24 max_features:0.204352 n_estimators:300 score_rmsle2:0.49358\n",
      "loop 66 - max_depth:94 max_features:0.238394 n_estimators:300 score_rmsle2:0.44601\n",
      "loop 67 - max_depth:81 max_features:0.469173 n_estimators:300 score_rmsle2:0.37055\n",
      "loop 68 - max_depth:52 max_features:0.496511 n_estimators:300 score_rmsle2:0.36126\n",
      "loop 69 - max_depth:40 max_features:0.432554 n_estimators:300 score_rmsle2:0.37055\n",
      "loop 70 - max_depth:97 max_features:0.347069 n_estimators:300 score_rmsle2:0.40961\n",
      "loop 71 - max_depth:19 max_features:0.786866 n_estimators:300 score_rmsle2:0.34801\n",
      "loop 72 - max_depth:47 max_features:0.630404 n_estimators:300 score_rmsle2:0.35327\n",
      "loop 73 - max_depth:59 max_features:0.920561 n_estimators:300 score_rmsle2:0.34939\n",
      "loop 74 - max_depth:76 max_features:0.549227 n_estimators:300 score_rmsle2:0.35520\n",
      "loop 75 - max_depth:95 max_features:0.535992 n_estimators:300 score_rmsle2:0.35520\n",
      "loop 76 - max_depth:26 max_features:0.232612 n_estimators:300 score_rmsle2:0.49276\n",
      "loop 77 - max_depth:77 max_features:0.567821 n_estimators:300 score_rmsle2:0.35520\n",
      "loop 78 - max_depth:76 max_features:0.692987 n_estimators:300 score_rmsle2:0.35002\n",
      "loop 79 - max_depth:9 max_features:0.633740 n_estimators:300 score_rmsle2:0.41264\n",
      "loop 80 - max_depth:77 max_features:0.843188 n_estimators:300 score_rmsle2:0.34834\n",
      "loop 81 - max_depth:48 max_features:0.497441 n_estimators:300 score_rmsle2:0.36126\n",
      "loop 82 - max_depth:40 max_features:0.420003 n_estimators:300 score_rmsle2:0.37055\n",
      "loop 83 - max_depth:24 max_features:0.657411 n_estimators:300 score_rmsle2:0.35000\n",
      "loop 84 - max_depth:66 max_features:0.985119 n_estimators:300 score_rmsle2:0.35115\n",
      "loop 85 - max_depth:46 max_features:0.671086 n_estimators:300 score_rmsle2:0.35002\n",
      "loop 86 - max_depth:47 max_features:0.780621 n_estimators:300 score_rmsle2:0.34917\n",
      "loop 87 - max_depth:73 max_features:0.945546 n_estimators:300 score_rmsle2:0.35115\n",
      "loop 88 - max_depth:44 max_features:0.779300 n_estimators:300 score_rmsle2:0.34917\n",
      "loop 89 - max_depth:27 max_features:0.142768 n_estimators:300 score_rmsle2:0.56609\n",
      "loop 90 - max_depth:77 max_features:0.935214 n_estimators:300 score_rmsle2:0.34939\n",
      "loop 91 - max_depth:44 max_features:0.899310 n_estimators:300 score_rmsle2:0.34939\n",
      "loop 92 - max_depth:75 max_features:0.384581 n_estimators:300 score_rmsle2:0.38557\n",
      "loop 93 - max_depth:50 max_features:0.225762 n_estimators:300 score_rmsle2:0.49296\n",
      "loop 94 - max_depth:37 max_features:0.615703 n_estimators:300 score_rmsle2:0.35327\n",
      "loop 95 - max_depth:58 max_features:0.472650 n_estimators:300 score_rmsle2:0.36126\n",
      "loop 96 - max_depth:67 max_features:0.798158 n_estimators:300 score_rmsle2:0.34917\n",
      "loop 97 - max_depth:84 max_features:0.476774 n_estimators:300 score_rmsle2:0.36126\n",
      "loop 98 - max_depth:71 max_features:0.981222 n_estimators:300 score_rmsle2:0.35115\n",
      "loop 99 - max_depth:31 max_features:0.980586 n_estimators:300 score_rmsle2:0.35113\n"
     ]
    },
    {
     "name": "stdout",
     "output_type": "stream",
     "text": [
      "loop 100 - max_depth:74 max_features:0.983339 n_estimators:300 score_rmsle2:0.35115\n"
     ]
    }
   ],
   "source": [
    "from sklearn.ensemble import RandomForestRegressor\n",
    "from sklearn.model_selection import cross_val_predict\n",
    "from sklearn.metrics import mean_squared_log_error\n",
    "\n",
    "min_rmsle=-1\n",
    "min_data=[]\n",
    "\n",
    "for loop in range(num_loop):\n",
    "    max_depth=np.random.randint(2,100)\n",
    "    max_features=np.random.uniform(0.1,1.0)\n",
    "    model=RandomForestRegressor(random_state=37,\n",
    "                                max_depth=max_depth,\n",
    "                                max_features=max_features,\n",
    "                                n_jobs=-1,\n",
    "                                n_estimators=n_estimators)\n",
    "    y_predict_log_casual=cross_val_predict(model,x,y_log_casual,cv=20)\n",
    "    y_predict_log_registered=cross_val_predict(model,x,y_log_registered,cv=20)\n",
    "    y_predict_casual=np.exp(y_predict_log_casual)-1\n",
    "    y_predict_registered=np.exp(y_predict_log_registered)-1\n",
    "    y_predict=y_predict_casual+y_predict_registered\n",
    "\n",
    "    score_msle2=mean_squared_log_error(y,y_predict)\n",
    "    score_rmsle2=np.sqrt(score_msle2)\n",
    "\n",
    "    if min_rmsle==-1 or min(score_rmsle2,min_rmsle)==score_rmsle2:\n",
    "        min_rmsle=score_rmsle2\n",
    "        min_data=[max_depth,max_features,n_estimators]\n",
    "\n",
    "    print(f\"loop {loop+1} - max_depth:{max_depth} max_features:{max_features:.6f} n_estimators:{n_estimators} score_rmsle2:{score_rmsle2:.5f}\")"
   ]
  },
  {
   "cell_type": "code",
   "execution_count": 18,
   "metadata": {},
   "outputs": [
    {
     "data": {
      "text/plain": [
       "0.34801359519960473"
      ]
     },
     "execution_count": 18,
     "metadata": {},
     "output_type": "execute_result"
    }
   ],
   "source": [
    "min_rmsle"
   ]
  },
  {
   "cell_type": "code",
   "execution_count": 19,
   "metadata": {},
   "outputs": [
    {
     "data": {
      "text/plain": [
       "[19, 0.7868663982913331, 300]"
      ]
     },
     "execution_count": 19,
     "metadata": {},
     "output_type": "execute_result"
    }
   ],
   "source": [
    "min_data"
   ]
  },
  {
   "cell_type": "code",
   "execution_count": 15,
   "metadata": {},
   "outputs": [],
   "source": [
    "from sklearn.ensemble import RandomForestRegressor\n",
    "\n",
    "model=RandomForestRegressor(random_state=123,\n",
    "                            max_depth=min_data[0],\n",
    "                            max_features=min_data[1],\n",
    "                            n_jobs=-1,\n",
    "                            n_estimators=min_data[2]\n",
    "                            )"
   ]
  },
  {
   "cell_type": "code",
   "execution_count": 16,
   "metadata": {},
   "outputs": [
    {
     "data": {
      "text/plain": [
       "array([11.04327043,  5.07773264,  2.62504078, ..., 99.81516973,\n",
       "       94.38288835, 50.15274836])"
      ]
     },
     "execution_count": 16,
     "metadata": {},
     "output_type": "execute_result"
    }
   ],
   "source": [
    "model.fit(x,y_log_casual)\n",
    "log_casual_predlist=model.predict(x_test)\n",
    "model.fit(x,y_log_registered)\n",
    "log_registered_predlist=model.predict(x_test)\n",
    "casual_predlist=np.exp(log_casual_predlist)-1\n",
    "registered_predlist=np.exp(log_registered_predlist)-1\n",
    "predlist=casual_predlist+registered_predlist\n",
    "predlist"
   ]
  },
  {
   "cell_type": "code",
   "execution_count": 17,
   "metadata": {},
   "outputs": [],
   "source": [
    "submit[\"count\"]=predlist\n",
    "submit.to_csv(\"randfore_hyperparameters_final.csv\",index=False)"
   ]
  }
 ],
 "metadata": {
  "kernelspec": {
   "display_name": "Python 3 (ipykernel)",
   "language": "python",
   "name": "python3"
  },
  "language_info": {
   "codemirror_mode": {
    "name": "ipython",
    "version": 3
   },
   "file_extension": ".py",
   "mimetype": "text/x-python",
   "name": "python",
   "nbconvert_exporter": "python",
   "pygments_lexer": "ipython3",
   "version": "3.11.4"
  }
 },
 "nbformat": 4,
 "nbformat_minor": 2
}
